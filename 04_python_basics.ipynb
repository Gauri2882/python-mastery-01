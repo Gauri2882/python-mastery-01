{
  "nbformat": 4,
  "nbformat_minor": 0,
  "metadata": {
    "colab": {
      "provenance": []
    },
    "kernelspec": {
      "name": "python3",
      "display_name": "Python 3"
    },
    "language_info": {
      "name": "python"
    }
  },
  "cells": [
    {
      "cell_type": "markdown",
      "source": [
        "\n",
        "\n",
        "*   user input with input()\n",
        "*   Type conversion\n",
        "*   string formatting\n",
        "*   basic arithmetic operations\n",
        "\n",
        "\n",
        "\n",
        "\n"
      ],
      "metadata": {
        "id": "NPzW1MUQ-cK7"
      }
    },
    {
      "cell_type": "code",
      "source": [
        "name = input(\"Your name? \")\n",
        "print(f\"Hello, {name}\")"
      ],
      "metadata": {
        "colab": {
          "base_uri": "https://localhost:8080/"
        },
        "id": "s3inrfK9Cm8M",
        "outputId": "2ef89968-993b-415c-bb92-55c35819f33a"
      },
      "execution_count": 52,
      "outputs": [
        {
          "output_type": "stream",
          "name": "stdout",
          "text": [
            "Your name? Gauri\n",
            "Hello, Gauri\n"
          ]
        }
      ]
    },
    {
      "cell_type": "code",
      "source": [
        "#when the input is in integer data type\n",
        "\n",
        "num1 = input(\"Enter a number: \")\n",
        "num1 = int(num1)\n",
        "print(f\"{num1} multiplied by 2 is {num1 * 2}\")"
      ],
      "metadata": {
        "colab": {
          "base_uri": "https://localhost:8080/"
        },
        "id": "AXnCt84CC1sD",
        "outputId": "31959e85-bf43-4486-c6b4-d9636287d59a"
      },
      "execution_count": 55,
      "outputs": [
        {
          "output_type": "stream",
          "name": "stdout",
          "text": [
            "Enter a number: 45\n",
            "45 multiplied by 2 is 90\n"
          ]
        }
      ]
    },
    {
      "cell_type": "code",
      "source": [
        "# when the input is in string data type\n",
        "\n",
        "num2 = int(input(\"Pick any number: \"))\n",
        "num2 = str(num2)\n",
        "print(f\"{num2} multiplied by 2 is {num2 * 2}\")"
      ],
      "metadata": {
        "colab": {
          "base_uri": "https://localhost:8080/"
        },
        "id": "dtwV0rSGC1jY",
        "outputId": "892d33b2-bd50-44c8-87bc-f2eb5b4ec28f"
      },
      "execution_count": 56,
      "outputs": [
        {
          "output_type": "stream",
          "name": "stdout",
          "text": [
            "Pick any number: 23\n",
            "23 multiplied by 2 is 2323\n"
          ]
        }
      ]
    },
    {
      "cell_type": "code",
      "source": [
        "A = int(input(\"Enter first number: \"))\n",
        "B = int(input(\"Enter second number: \"))\n",
        "\n",
        "result = A + B\n",
        "print(f\"The sum of {A} and {B} is {A + B}\")"
      ],
      "metadata": {
        "colab": {
          "base_uri": "https://localhost:8080/"
        },
        "id": "pIBIP5-sDuRu",
        "outputId": "15343295-c270-4b33-dcb6-d8befee100a1"
      },
      "execution_count": 57,
      "outputs": [
        {
          "output_type": "stream",
          "name": "stdout",
          "text": [
            "Enter first number: 12\n",
            "Enter second number: 67\n",
            "The sum of 12 and 67 is 79\n"
          ]
        }
      ]
    },
    {
      "cell_type": "code",
      "source": [
        "a = 10\n",
        "b = 5\n",
        "\n",
        "print(f\"Addition: {a + b}\")\n",
        "print(f\"Subtraction: {a - b}\")\n",
        "print(f\"Multiplication: {a * b}\")\n",
        "print(f\"Division: {a / b}\")\n",
        "print(f\"Floor Division: {a // b}\")\n",
        "print(f\"Modulus: {a % b}\")\n",
        "print(f\"Exponent: {a ** b}\")"
      ],
      "metadata": {
        "colab": {
          "base_uri": "https://localhost:8080/"
        },
        "id": "cwyYEdIzEMsH",
        "outputId": "69fa6532-df6d-4383-c3f2-7ed8c5912981"
      },
      "execution_count": 58,
      "outputs": [
        {
          "output_type": "stream",
          "name": "stdout",
          "text": [
            "Addition: 15\n",
            "Subtraction: 5\n",
            "Multiplication: 50\n",
            "Division: 2.0\n",
            "Floor Division: 2\n",
            "Modulus: 0\n",
            "Exponent: 100000\n"
          ]
        }
      ]
    },
    {
      "cell_type": "markdown",
      "source": [
        "# Project: Simple Calculator"
      ],
      "metadata": {
        "id": "fYuqREh0EhRm"
      }
    },
    {
      "cell_type": "code",
      "source": [
        "# step 1: get two integers\n",
        "number1 = float(input(\"Enter first number: \"))\n",
        "number2 = float(input(\"Enter second number: \"))\n",
        "\n",
        "# step 2: perform the arithmetic operation\n",
        "addition = number1 + number2\n",
        "subtraction = number1 - number2\n",
        "multiplication = number1 * number2\n",
        "division = number1 / number2 if number2 != 0 else \"Cannot divide by zero\"\n",
        "\n",
        "# step 3: print the result\n",
        "print(\"\\n---- Calculator Results ----\")\n",
        "print(f\"Addition: {number1} + {number2} = {addition}\")\n",
        "print(f\"Subtraction: {number1} - {number2} = {subtraction}\")\n",
        "print(f\"Multiplication: {number1} * {number2} = {multiplication}\")\n",
        "print(f\"Division: {number1} / {number2} = {division}\")"
      ],
      "metadata": {
        "colab": {
          "base_uri": "https://localhost:8080/"
        },
        "id": "L4-57gAHEkeQ",
        "outputId": "08d57116-f597-4a1c-ee5f-d9d2f3599e0e"
      },
      "execution_count": 60,
      "outputs": [
        {
          "output_type": "stream",
          "name": "stdout",
          "text": [
            "Enter first number: 45\n",
            "Enter second number: 5\n",
            "\n",
            "---- Calculator Results ----\n",
            "Addition: 45.0 + 5.0 = 50.0\n",
            "Subtraction: 45.0 - 5.0 = 40.0\n",
            "Multiplication: 45.0 * 5.0 = 225.0\n",
            "Division: 45.0 / 5.0 = 9.0\n"
          ]
        }
      ]
    }
  ]
}