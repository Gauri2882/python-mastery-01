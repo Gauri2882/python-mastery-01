{
  "nbformat": 4,
  "nbformat_minor": 0,
  "metadata": {
    "colab": {
      "provenance": []
    },
    "kernelspec": {
      "name": "python3",
      "display_name": "Python 3"
    },
    "language_info": {
      "name": "python"
    }
  },
  "cells": [
    {
      "cell_type": "markdown",
      "source": [
        "# If else statements"
      ],
      "metadata": {
        "id": "9WfAdbVdFxgU"
      }
    },
    {
      "cell_type": "code",
      "source": [
        "number = 10\n",
        "\n",
        "if number > 5:\n",
        "  print(\"The number is greater than 5\")\n",
        "elif number == 5:\n",
        "  print(\"The number is equal to 5\")\n",
        "else:\n",
        "  print(\"The number is less than 5\")"
      ],
      "metadata": {
        "colab": {
          "base_uri": "https://localhost:8080/"
        },
        "id": "NW1r8934F1hO",
        "outputId": "afa40f83-5a34-4cc7-86b9-f66633e33683"
      },
      "execution_count": 62,
      "outputs": [
        {
          "output_type": "stream",
          "name": "stdout",
          "text": [
            "The number is greater than 5\n"
          ]
        }
      ]
    },
    {
      "cell_type": "markdown",
      "source": [
        "# Comparison Operators"
      ],
      "metadata": {
        "id": "8eQTuCCqGUt4"
      }
    },
    {
      "cell_type": "code",
      "source": [
        "num = 34\n",
        "\n",
        "if num >= 100:\n",
        "  print(\"The number is greater than or equal to 100\")\n",
        "elif num <= 100:\n",
        "  print(\"The number is less than or equal to 100\")"
      ],
      "metadata": {
        "colab": {
          "base_uri": "https://localhost:8080/"
        },
        "id": "ECwLfJ83GXw7",
        "outputId": "b74373f5-bd0b-4335-c8a5-0a4fe6102de4"
      },
      "execution_count": 63,
      "outputs": [
        {
          "output_type": "stream",
          "name": "stdout",
          "text": [
            "The number is less than or equal to 100\n"
          ]
        }
      ]
    },
    {
      "cell_type": "code",
      "source": [
        "num2 = 56\n",
        "\n",
        "if num2 != 100:\n",
        "  print(\"The number is not equal to 100\")\n",
        "else:\n",
        "  print(\"The number is equal to 100\")"
      ],
      "metadata": {
        "colab": {
          "base_uri": "https://localhost:8080/"
        },
        "id": "NmBJ4yw4GoPW",
        "outputId": "e663dda2-9daa-46ea-b093-c3551f796870"
      },
      "execution_count": 64,
      "outputs": [
        {
          "output_type": "stream",
          "name": "stdout",
          "text": [
            "The number is not equal to 100\n"
          ]
        }
      ]
    },
    {
      "cell_type": "code",
      "source": [
        "num3 = 56\n",
        "\n",
        "if num3 == 100:\n",
        "  print(\"The number is equal to 100\")\n",
        "else:\n",
        "  print(\"The number is not equal to 100\")"
      ],
      "metadata": {
        "colab": {
          "base_uri": "https://localhost:8080/"
        },
        "id": "efR8b4BUGvE1",
        "outputId": "7d12ac5e-9807-47f2-e28f-69f32c9c5eff"
      },
      "execution_count": 65,
      "outputs": [
        {
          "output_type": "stream",
          "name": "stdout",
          "text": [
            "The number is not equal to 100\n"
          ]
        }
      ]
    },
    {
      "cell_type": "markdown",
      "source": [
        "# Logical operators"
      ],
      "metadata": {
        "id": "dr4Ld58lG0-J"
      }
    },
    {
      "cell_type": "code",
      "source": [
        "a = 7\n",
        "b = 12\n",
        "\n",
        "if a > 5 and b < 20:\n",
        "  print(\"Both conditions are true\")\n",
        "else:\n",
        "  print(\"At least one condition is false\")\n",
        "\n",
        "if a > 5 or b < 20:\n",
        "  print(\"At least one condition is true\")\n",
        "else:\n",
        "  print(\"Both conditions are false\")"
      ],
      "metadata": {
        "colab": {
          "base_uri": "https://localhost:8080/"
        },
        "id": "SWXXRtYdG22d",
        "outputId": "4b2c01c2-efad-4a42-c36a-47b0736dacb8"
      },
      "execution_count": 67,
      "outputs": [
        {
          "output_type": "stream",
          "name": "stdout",
          "text": [
            "Both conditions are true\n",
            "At least one condition is true\n"
          ]
        }
      ]
    },
    {
      "cell_type": "markdown",
      "source": [
        "# Nested if else statements"
      ],
      "metadata": {
        "id": "tCr3ZoK8HHti"
      }
    },
    {
      "cell_type": "code",
      "source": [
        "number = 31\n",
        "\n",
        "if number > 10:\n",
        "  print(\"The number is greater than 10\")\n",
        "  if number > 20:\n",
        "    print(\"The number is also greater than 20\")\n",
        "  else:\n",
        "    print(\"The number is not greater than 20\")"
      ],
      "metadata": {
        "colab": {
          "base_uri": "https://localhost:8080/"
        },
        "id": "gIXg2X0oHJ7U",
        "outputId": "ed72c5cb-ae46-46e5-f064-62a8848879c7"
      },
      "execution_count": 68,
      "outputs": [
        {
          "output_type": "stream",
          "name": "stdout",
          "text": [
            "The number is greater than 10\n",
            "The number is also greater than 20\n"
          ]
        }
      ]
    },
    {
      "cell_type": "markdown",
      "source": [
        "# Project: Number Comparison Tool"
      ],
      "metadata": {
        "id": "o4d_mBkWHWkc"
      }
    },
    {
      "cell_type": "code",
      "source": [
        "# step 1: Get two numbers from user\n",
        "num1 = int(input(\"Enter the first number: \"))\n",
        "num2 = int(input(\"Enter the second number: \"))\n",
        "\n",
        "# step 2: Compare the numbers\n",
        "print(\"\\n ---- Comparsion Results ---\")\n",
        "if num1 > num2:\n",
        "  print(f\"{num1} is greater than {num2}\")\n",
        "elif num1 < num2:\n",
        "  print(f\"{num1} is less than {num2}\")\n",
        "else:\n",
        "  print(f\"{num1} is equal to {num2}\")\n",
        "\n",
        "# step 3: check if any number is zero\n",
        "if num1 == 0 or num2 == 0:\n",
        "  print(\"\\nAt least one number is zero\")\n",
        "else:\n",
        "  print(\"\\nBoth numbers are non-zero\")"
      ],
      "metadata": {
        "colab": {
          "base_uri": "https://localhost:8080/"
        },
        "id": "SJOMwas8HaLr",
        "outputId": "67d7b117-3eea-4878-fcbd-c99290359685"
      },
      "execution_count": 71,
      "outputs": [
        {
          "output_type": "stream",
          "name": "stdout",
          "text": [
            "Enter the first number: 15\n",
            "Enter the second number: 9\n",
            "\n",
            " ---- Comparsion Results ---\n",
            "15 is greater than 9\n",
            "\n",
            "Both numbers are non-zero\n"
          ]
        }
      ]
    }
  ]
}