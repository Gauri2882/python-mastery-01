{
  "nbformat": 4,
  "nbformat_minor": 0,
  "metadata": {
    "colab": {
      "provenance": []
    },
    "kernelspec": {
      "name": "python3",
      "display_name": "Python 3"
    },
    "language_info": {
      "name": "python"
    }
  },
  "cells": [
    {
      "cell_type": "markdown",
      "source": [
        "# Loops\n",
        "\n",
        "*  For loops\n",
        "*  While loops\n",
        "*  using time.sleeps() for delays"
      ],
      "metadata": {
        "id": "U_5si0y0Jnyg"
      }
    },
    {
      "cell_type": "code",
      "source": [
        "for i in range(0, 5, 1):\n",
        "  print(i)"
      ],
      "metadata": {
        "colab": {
          "base_uri": "https://localhost:8080/"
        },
        "id": "doRH6bpoJ2Jc",
        "outputId": "65c26594-3784-41d2-8004-1ba0121d1cc7"
      },
      "execution_count": 77,
      "outputs": [
        {
          "output_type": "stream",
          "name": "stdout",
          "text": [
            "0\n",
            "1\n",
            "2\n",
            "3\n",
            "4\n"
          ]
        }
      ]
    },
    {
      "cell_type": "code",
      "source": [
        "# in reverse order\n",
        "for j in range(5, 0, -1):\n",
        "  print(j)"
      ],
      "metadata": {
        "colab": {
          "base_uri": "https://localhost:8080/"
        },
        "id": "dlZValovKD-m",
        "outputId": "29317aa8-709a-46c0-c605-a553c9606b19"
      },
      "execution_count": 79,
      "outputs": [
        {
          "output_type": "stream",
          "name": "stdout",
          "text": [
            "5\n",
            "4\n",
            "3\n",
            "2\n",
            "1\n"
          ]
        }
      ]
    },
    {
      "cell_type": "code",
      "source": [
        "count = 5\n",
        "\n",
        "while count > 0:\n",
        "  print(count)\n",
        "  count -= 1"
      ],
      "metadata": {
        "colab": {
          "base_uri": "https://localhost:8080/"
        },
        "id": "3GPip6BeKRaR",
        "outputId": "8b521f88-07ce-4460-a4de-6b4697867efc"
      },
      "execution_count": 80,
      "outputs": [
        {
          "output_type": "stream",
          "name": "stdout",
          "text": [
            "5\n",
            "4\n",
            "3\n",
            "2\n",
            "1\n"
          ]
        }
      ]
    },
    {
      "cell_type": "code",
      "source": [
        "import time\n",
        "\n",
        "print(\"Starting countdown\\n\")\n",
        "for i in range(5, 0, -1):\n",
        "  print(i)\n",
        "  time.sleep(1) # useful for debugging as well\n",
        "\n",
        "print(\"\\nHappy New Year!\")"
      ],
      "metadata": {
        "colab": {
          "base_uri": "https://localhost:8080/"
        },
        "id": "h05SID8_KriW",
        "outputId": "b3248bd2-9392-4a46-84f7-af5b10b417a3"
      },
      "execution_count": 84,
      "outputs": [
        {
          "output_type": "stream",
          "name": "stdout",
          "text": [
            "Starting countdown\n",
            "\n",
            "5\n",
            "4\n",
            "3\n",
            "2\n",
            "1\n",
            "\n",
            "Happy New Year!\n"
          ]
        }
      ]
    },
    {
      "cell_type": "markdown",
      "source": [
        "# Project: Countdown Timer"
      ],
      "metadata": {
        "id": "sswLESq7LQJD"
      }
    },
    {
      "cell_type": "code",
      "source": [
        "# step 1: get user input\n",
        "start = int(input(\"Enter the number to start the countdown from: \"))\n",
        "speed = float(input(\"Enter the speed of the countdown: \"))\n",
        "\n",
        "half_time = start // 2\n",
        "\n",
        "# step 2: countdown using while loop\n",
        "print(\"\\n---- Countdown Begins ---- \\n\")\n",
        "while start > 0:\n",
        "  if start == half_time:\n",
        "    print(\"---- Halfway there! ----\")\n",
        "  print(start)\n",
        "  time.sleep(speed)\n",
        "  start -= 1\n",
        "\n",
        "print(\"\\n---- Countdown Complete ----\")\n"
      ],
      "metadata": {
        "colab": {
          "base_uri": "https://localhost:8080/"
        },
        "id": "DMJlB24TLURq",
        "outputId": "3afd8ff7-e8dd-4a07-8afd-5e9f18a0bd2c"
      },
      "execution_count": 95,
      "outputs": [
        {
          "output_type": "stream",
          "name": "stdout",
          "text": [
            "Enter the number to start the countdown from: 9\n",
            "Enter the speed of the countdown: 0.5\n",
            "\n",
            "---- Countdown Begins ---- \n",
            "\n",
            "9\n",
            "8\n",
            "7\n",
            "6\n",
            "5\n",
            "---- Halfway there! ----\n",
            "4\n",
            "3\n",
            "2\n",
            "1\n",
            "\n",
            "---- Countdown Complete ----\n"
          ]
        }
      ]
    }
  ]
}