{
  "nbformat": 4,
  "nbformat_minor": 0,
  "metadata": {
    "colab": {
      "provenance": []
    },
    "kernelspec": {
      "name": "python3",
      "display_name": "Python 3"
    },
    "language_info": {
      "name": "python"
    }
  },
  "cells": [
    {
      "cell_type": "markdown",
      "source": [
        "# Print functions\n",
        "\n",
        "*   print with text and numbers\n",
        "*   string formatting for dynamic message"
      ],
      "metadata": {
        "id": "TRr6UAJ57vyr"
      }
    },
    {
      "cell_type": "code",
      "source": [
        "print(\"Hello, Python world!\")"
      ],
      "metadata": {
        "colab": {
          "base_uri": "https://localhost:8080/"
        },
        "id": "Aq5iCXlM7o1l",
        "outputId": "a879145e-acf0-4dfd-aae4-de563c2462df"
      },
      "execution_count": 33,
      "outputs": [
        {
          "output_type": "stream",
          "name": "stdout",
          "text": [
            "Hello, Python world!\n"
          ]
        }
      ]
    },
    {
      "cell_type": "code",
      "source": [
        "print(\"The number is:\", 4)\n",
        "print(\"2 + 2 =\", 2 + 2)"
      ],
      "metadata": {
        "colab": {
          "base_uri": "https://localhost:8080/"
        },
        "id": "HmLqFwO37ujA",
        "outputId": "d3ac903b-742b-4dc4-fd45-08fe236fe7e3"
      },
      "execution_count": 35,
      "outputs": [
        {
          "output_type": "stream",
          "name": "stdout",
          "text": [
            "The number is: 4\n",
            "2 + 2 = 4\n"
          ]
        }
      ]
    },
    {
      "cell_type": "code",
      "source": [
        "name = \"Gauri\"\n",
        "\n",
        "# without formatting\n",
        "print(\"Hello, {name}!\")\n",
        "\n",
        "# with formatting\n",
        "print(f\"Hello, {name}!\")"
      ],
      "metadata": {
        "colab": {
          "base_uri": "https://localhost:8080/"
        },
        "id": "6HGyaeIe8Ze2",
        "outputId": "9de05234-97e3-4478-d5dc-f67a01e02b69"
      },
      "execution_count": 37,
      "outputs": [
        {
          "output_type": "stream",
          "name": "stdout",
          "text": [
            "Hello, {name}!\n",
            "Hello, Gauri!\n"
          ]
        }
      ]
    },
    {
      "cell_type": "code",
      "source": [
        "name_1 = input(\"Hey, what's your name? \")\n",
        "print(f\"Hello, {name_1}!\")"
      ],
      "metadata": {
        "colab": {
          "base_uri": "https://localhost:8080/"
        },
        "id": "BsqGm52g80XA",
        "outputId": "a255f4d5-129b-4e95-d9f6-21ad3d90482b"
      },
      "execution_count": 39,
      "outputs": [
        {
          "output_type": "stream",
          "name": "stdout",
          "text": [
            "Hey, what's your name? Gauri\n",
            "Hello, Gauri!\n"
          ]
        }
      ]
    },
    {
      "cell_type": "markdown",
      "source": [
        "# Project 1: Welcome message generator"
      ],
      "metadata": {
        "id": "YL1j7eOT9Fv8"
      }
    },
    {
      "cell_type": "code",
      "source": [
        "# step 1: Ask for user details\n",
        "name = input(\"What's your name buddy? \")\n",
        "hobby = input(\"What's your fav hobby? \")\n",
        "\n",
        "# step 2: Generate a personalized welcome message\n",
        "print(\"\\n------ Welcome Message -----\")\n",
        "print(f\"Hello, {name}\")\n",
        "print(f\"Your fav hobby is {hobby}, same as mine!\")"
      ],
      "metadata": {
        "colab": {
          "base_uri": "https://localhost:8080/"
        },
        "id": "cSVAdQwT9KLz",
        "outputId": "032485fd-8a97-4cad-a8ab-9a31053acdc2"
      },
      "execution_count": 40,
      "outputs": [
        {
          "output_type": "stream",
          "name": "stdout",
          "text": [
            "What's your name buddy? Gauri\n",
            "What's your fav hobby? Sketching\n",
            "\n",
            "------ Welcome Message -----\n",
            "Hello, Gauri\n",
            "Your fav hobby is Sketching, same as mine!\n"
          ]
        }
      ]
    }
  ]
}