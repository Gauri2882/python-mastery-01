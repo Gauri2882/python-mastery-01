{
  "nbformat": 4,
  "nbformat_minor": 0,
  "metadata": {
    "colab": {
      "provenance": []
    },
    "kernelspec": {
      "name": "python3",
      "display_name": "Python 3"
    },
    "language_info": {
      "name": "python"
    }
  },
  "cells": [
    {
      "cell_type": "markdown",
      "source": [
        "\n",
        "\n",
        "1.   Variables\n",
        "2.   Data Types\n",
        "3.   Type conversion\n",
        "4.   String formatting\n",
        "\n",
        "\n"
      ],
      "metadata": {
        "id": "NPzW1MUQ-cK7"
      }
    },
    {
      "cell_type": "code",
      "source": [
        "# storing name in variable\n",
        "name = \"Gauri\"\n",
        "\n",
        "# storing age in variable\n",
        "age = 21"
      ],
      "metadata": {
        "id": "f-1obO-1-0Ap"
      },
      "execution_count": 42,
      "outputs": []
    },
    {
      "cell_type": "code",
      "source": [
        "# DATA TYPE\n",
        "\n",
        "#string\n",
        "name_1 = \"Gauri\"\n",
        "\n",
        "#integer\n",
        "age_1 = 21\n",
        "\n",
        "#float\n",
        "height = 5.3\n",
        "\n",
        "#boolean\n",
        "is_student = False\n",
        "\n",
        "# checking data type using type function\n",
        "print(type(name_1))\n",
        "print(type(age_1))\n",
        "print(type(height))\n",
        "print(type(is_student))"
      ],
      "metadata": {
        "colab": {
          "base_uri": "https://localhost:8080/"
        },
        "id": "UbPQHXMf_Szm",
        "outputId": "43f642e1-eff0-4e2a-c1f4-b154cf3a333b"
      },
      "execution_count": 43,
      "outputs": [
        {
          "output_type": "stream",
          "name": "stdout",
          "text": [
            "<class 'str'>\n",
            "<class 'int'>\n",
            "<class 'float'>\n",
            "<class 'bool'>\n"
          ]
        }
      ]
    },
    {
      "cell_type": "code",
      "source": [
        "# TYPE CONVERSION\n",
        "\n",
        "# converting string to integer\n",
        "age = \"21\"\n",
        "\n",
        "my_age = int(age)\n",
        "\n",
        "print(f\"Your age will be {my_age + 5} after 5 years\")"
      ],
      "metadata": {
        "colab": {
          "base_uri": "https://localhost:8080/"
        },
        "id": "yt2ni0rx_67C",
        "outputId": "ac62897a-e733-40d9-b745-c68d2b03c1de"
      },
      "execution_count": 44,
      "outputs": [
        {
          "output_type": "stream",
          "name": "stdout",
          "text": [
            "Your age will be 26 after 5 years\n"
          ]
        }
      ]
    },
    {
      "cell_type": "code",
      "source": [
        "# STRING FORMATING\n",
        "\n",
        "name_2 = \"Gauri\"\n",
        "\n",
        "print(\"Hello, \" + name_2 +\"!\")\n",
        "\n",
        "print(\"Hello my bsf, {}!\".format(name_2))\n",
        "\n",
        "print(f\"Hey {name}, how you doin?!\")"
      ],
      "metadata": {
        "colab": {
          "base_uri": "https://localhost:8080/"
        },
        "id": "jxJt5N-OAYzy",
        "outputId": "43af91a3-cb6b-4b64-f224-9b10a25b973a"
      },
      "execution_count": 49,
      "outputs": [
        {
          "output_type": "stream",
          "name": "stdout",
          "text": [
            "Hello, Gauri!\n",
            "Hello my bsf, Gauri!\n",
            "Hey Gauri, how you doin?!\n"
          ]
        }
      ]
    },
    {
      "cell_type": "markdown",
      "source": [
        "# Project: Personalized Greeting Program"
      ],
      "metadata": {
        "id": "rzvtD6mbBBAs"
      }
    },
    {
      "cell_type": "code",
      "source": [
        "# step 1: ask for user details\n",
        "name = input(\"What's your name? \")\n",
        "age = int(input(\"How old are you? \"))\n",
        "color = input(\"What is your fav color? \")\n",
        "\n",
        "print(\"\\n ---- Birthday Theme Details ----\")\n",
        "print(f\"Hello, {name}\")\n",
        "print(f\"The theme for {age} years old ladies is {color} color\")"
      ],
      "metadata": {
        "colab": {
          "base_uri": "https://localhost:8080/"
        },
        "id": "T6Us8G5QBHA0",
        "outputId": "f3fb6844-1ca9-4937-cad0-a1bb7fdfa521"
      },
      "execution_count": 51,
      "outputs": [
        {
          "output_type": "stream",
          "name": "stdout",
          "text": [
            "What's your name? Gauri\n",
            "How old are you? 21\n",
            "What is your fav color? Pink\n",
            "\n",
            " ---- Birthday Theme Details ----\n",
            "Hello, Gauri\n",
            "The theme for 21 years old ladies is Pink color\n"
          ]
        }
      ]
    }
  ]
}