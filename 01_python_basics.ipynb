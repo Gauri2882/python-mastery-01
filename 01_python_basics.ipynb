{
  "nbformat": 4,
  "nbformat_minor": 0,
  "metadata": {
    "colab": {
      "provenance": []
    },
    "kernelspec": {
      "name": "python3",
      "display_name": "Python 3"
    },
    "language_info": {
      "name": "python"
    }
  },
  "cells": [
    {
      "cell_type": "code",
      "source": [
        "print(\"Hello World!\")"
      ],
      "metadata": {
        "colab": {
          "base_uri": "https://localhost:8080/"
        },
        "id": "1KH-1Q3L14me",
        "outputId": "8743ef61-bf84-4781-eaa9-8ea2ddfaff43"
      },
      "execution_count": 6,
      "outputs": [
        {
          "output_type": "stream",
          "name": "stdout",
          "text": [
            "Hello World!\n"
          ]
        }
      ]
    },
    {
      "cell_type": "code",
      "source": [
        "print(\"Hello Gauri!\")"
      ],
      "metadata": {
        "colab": {
          "base_uri": "https://localhost:8080/"
        },
        "id": "68MLM0Kc2Ub7",
        "outputId": "9a7cc6f9-d982-4899-c46a-225511fca0fc"
      },
      "execution_count": 7,
      "outputs": [
        {
          "output_type": "stream",
          "name": "stdout",
          "text": [
            "Hello Gauri!\n"
          ]
        }
      ]
    },
    {
      "cell_type": "markdown",
      "source": [
        "Virtual Boxes (Variable)"
      ],
      "metadata": {
        "id": "oWySqeAm2w76"
      }
    },
    {
      "cell_type": "code",
      "source": [
        "# string\n",
        "name = \"Gauri\"\n",
        "\n",
        "# number\n",
        "age = 20\n",
        "\n",
        "# float number\n",
        "height = 5.3\n",
        "\n",
        "# boolean\n",
        "is_gamer = True\n",
        "\n",
        "print(name)\n",
        "print(age)\n",
        "print(height)\n",
        "print(is_gamer)\n",
        "\n",
        "\"Or to make it more pretty\"\n",
        "print(\"Name:\",name)\n",
        "print(\"Age:\",age)\n",
        "print(\"Height:\",height)\n",
        "print(\"Is Gamer?:\",is_gamer)"
      ],
      "metadata": {
        "colab": {
          "base_uri": "https://localhost:8080/"
        },
        "id": "37lc9Boc20K6",
        "outputId": "ae132173-ddc6-4490-c8a8-59fc011e23a0"
      },
      "execution_count": 8,
      "outputs": [
        {
          "output_type": "stream",
          "name": "stdout",
          "text": [
            "Gauri\n",
            "20\n",
            "5.3\n",
            "True\n",
            "Name: Gauri\n",
            "Age: 20\n",
            "Height: 5.3\n",
            "Is Gamer?: True\n"
          ]
        }
      ]
    },
    {
      "cell_type": "markdown",
      "source": [
        "Talking to the user (input())"
      ],
      "metadata": {
        "id": "OxTBBZPJ4Cvl"
      }
    },
    {
      "cell_type": "code",
      "source": [
        "user_name = input(\"What's your name? \")\n",
        "print(\"Welcome,\", user_name)\n",
        "\n",
        "\"To make it look prettier\"\n",
        "print(\"Welcome, \"+ user_name + \"!\")"
      ],
      "metadata": {
        "colab": {
          "base_uri": "https://localhost:8080/"
        },
        "id": "A8dakGyq4H0D",
        "outputId": "9fac0f7f-c3aa-4c5d-8c05-ccb28f80beec"
      },
      "execution_count": 9,
      "outputs": [
        {
          "output_type": "stream",
          "name": "stdout",
          "text": [
            "What's your name? Gauri\n",
            "Welcome, Gauri\n",
            "Welcome, Gauri!\n"
          ]
        }
      ]
    },
    {
      "cell_type": "markdown",
      "source": [
        "Math Magic"
      ],
      "metadata": {
        "id": "6B1Wmjk-4-iW"
      }
    },
    {
      "cell_type": "code",
      "source": [
        "x = 10\n",
        "y = 3\n",
        "\n",
        "print(x + y)\n",
        "print(x - y)\n",
        "print(x * y)\n",
        "print(x / y)\n",
        "print(x // y)\n",
        "print(x % y)\n",
        "print(x ** y)"
      ],
      "metadata": {
        "colab": {
          "base_uri": "https://localhost:8080/"
        },
        "id": "B40Xg4WH5BDE",
        "outputId": "9da73635-c81a-4981-8dc2-d2074cc0495d"
      },
      "execution_count": 10,
      "outputs": [
        {
          "output_type": "stream",
          "name": "stdout",
          "text": [
            "13\n",
            "7\n",
            "30\n",
            "3.3333333333333335\n",
            "3\n",
            "1\n",
            "1000\n"
          ]
        }
      ]
    },
    {
      "cell_type": "markdown",
      "source": [
        "Making decisions using If, Elif, Else"
      ],
      "metadata": {
        "id": "RMWiESdQ5kt6"
      }
    },
    {
      "cell_type": "code",
      "source": [
        "age = int(input(\"What's your age? \"))\n",
        "\n",
        "if age >= 18:\n",
        "  print(\"You are an adult.\")\n",
        "elif age >= 13:\n",
        "  print(\"You are a teenager.\")\n",
        "else:\n",
        "  print(\"You are minor.\")"
      ],
      "metadata": {
        "id": "yismeeKH5qf5",
        "colab": {
          "base_uri": "https://localhost:8080/"
        },
        "outputId": "be2e9498-9c2d-459b-9e25-32e82b4fbe49"
      },
      "execution_count": 11,
      "outputs": [
        {
          "output_type": "stream",
          "name": "stdout",
          "text": [
            "What's your age? 18\n",
            "You are an adult.\n"
          ]
        }
      ]
    },
    {
      "cell_type": "markdown",
      "source": [
        "Loops for repeating actions"
      ],
      "metadata": {
        "id": "U_PF6shakuIK"
      }
    },
    {
      "cell_type": "code",
      "source": [
        "count = 0\n",
        "\n",
        "while count < 5:\n",
        "  print(\"Count is\", count)\n",
        "  count += 1"
      ],
      "metadata": {
        "colab": {
          "base_uri": "https://localhost:8080/"
        },
        "id": "phNKoVDJkw5d",
        "outputId": "f969117b-3414-4ce6-9066-42114a6811e3"
      },
      "execution_count": 12,
      "outputs": [
        {
          "output_type": "stream",
          "name": "stdout",
          "text": [
            "Count is 0\n",
            "Count is 1\n",
            "Count is 2\n",
            "Count is 3\n",
            "Count is 4\n"
          ]
        }
      ]
    },
    {
      "cell_type": "code",
      "source": [
        "video_games = [\"PUBG\", \"Free Fire\", \"GTA\"]\n",
        "\n",
        "for game in video_games:\n",
        "  print(game)"
      ],
      "metadata": {
        "colab": {
          "base_uri": "https://localhost:8080/"
        },
        "id": "b587fj0q2mJg",
        "outputId": "a3bd532b-7b01-4f18-9114-1b15d6c2312d"
      },
      "execution_count": 14,
      "outputs": [
        {
          "output_type": "stream",
          "name": "stdout",
          "text": [
            "PUBG\n",
            "Free Fire\n",
            "GTA\n"
          ]
        }
      ]
    },
    {
      "cell_type": "markdown",
      "source": [
        "List to keep track of stuff"
      ],
      "metadata": {
        "id": "2eyahSsH28yP"
      }
    },
    {
      "cell_type": "code",
      "source": [
        "# Accessing index wise element and printing\n",
        "print(video_games[0])\n",
        "\n",
        "# Adding element to your list\n",
        "video_games.append(\"GTA 5\")\n",
        "print(video_games[3])\n",
        "\n",
        "# Updating existing element\n",
        "video_games[1] = \"Angry Birds\"\n",
        "print(video_games[1])"
      ],
      "metadata": {
        "colab": {
          "base_uri": "https://localhost:8080/"
        },
        "id": "A6KNRpLG2-_Y",
        "outputId": "733524ce-9010-4f5d-b36c-334579feaa09"
      },
      "execution_count": 19,
      "outputs": [
        {
          "output_type": "stream",
          "name": "stdout",
          "text": [
            "PUBG\n",
            "GTA 5\n",
            "Angry Birds\n"
          ]
        }
      ]
    },
    {
      "cell_type": "markdown",
      "source": [
        "Build your own commands using Functions"
      ],
      "metadata": {
        "id": "ixgE_HDw391C"
      }
    },
    {
      "cell_type": "code",
      "source": [
        "def say_hello():\n",
        "  print(\"Hello Bestie!\")\n",
        "\n",
        "say_hello()\n",
        "say_hello()"
      ],
      "metadata": {
        "colab": {
          "base_uri": "https://localhost:8080/"
        },
        "id": "EU9oEFsk4BC9",
        "outputId": "97da4b37-1929-43d3-c1c1-8121ffd189a1"
      },
      "execution_count": 20,
      "outputs": [
        {
          "output_type": "stream",
          "name": "stdout",
          "text": [
            "Hello Bestie!\n",
            "Hello Bestie!\n"
          ]
        }
      ]
    },
    {
      "cell_type": "code",
      "source": [
        "#adding parameters to function\n",
        "\n",
        "def say_hi(name):\n",
        "  print(\"Hi! \" + name + \". Nice to meet you!\")\n",
        "\n",
        "say_hi(\"Gauri\")\n",
        "say_hi(\"Aadi\")"
      ],
      "metadata": {
        "colab": {
          "base_uri": "https://localhost:8080/"
        },
        "id": "HJ0h4qDa4R48",
        "outputId": "b49fa947-058f-48de-ca66-d5dce432f71f"
      },
      "execution_count": 26,
      "outputs": [
        {
          "output_type": "stream",
          "name": "stdout",
          "text": [
            "Hi! Gauri. Nice to meet you!\n",
            "Hi! Aadi. Nice to meet you!\n"
          ]
        }
      ]
    },
    {
      "cell_type": "code",
      "source": [
        "def multiply(a, b):\n",
        "  return a*b\n",
        "\n",
        "result = multiply(5, 6)\n",
        "print(\"Result is:\",result)"
      ],
      "metadata": {
        "colab": {
          "base_uri": "https://localhost:8080/"
        },
        "id": "rDGEjSZ64RTl",
        "outputId": "76691b4d-ece4-4fef-8a7b-7c1bb23c168b"
      },
      "execution_count": 28,
      "outputs": [
        {
          "output_type": "stream",
          "name": "stdout",
          "text": [
            "Result is: 30\n"
          ]
        }
      ]
    },
    {
      "cell_type": "markdown",
      "source": [
        "Mini Project: Number Guessing Game"
      ],
      "metadata": {
        "id": "oQVOnIaM5MAE"
      }
    },
    {
      "cell_type": "code",
      "source": [
        "from sys import set_coroutine_origin_tracking_depth\n",
        "import random\n",
        "\n",
        "secret_number = random.randint(1, 10)\n",
        "attempts = 3\n",
        "\n",
        "while attempts > 0:\n",
        "  guess = int(input(\"Guess a number: \"))\n",
        "  if guess == secret_number:\n",
        "    print(\"Congrats buddy, you guessed the number\")\n",
        "    break\n",
        "  elif guess < secret_number:\n",
        "    print(\"Too low! Try again\")\n",
        "  else:\n",
        "    print(\"Too high! Try again\")\n",
        "  attempts -= 1\n",
        "\n",
        "if attempts == 0:\n",
        "  print(\"You used all your attempts. The secret number was:\", secret_number)"
      ],
      "metadata": {
        "colab": {
          "base_uri": "https://localhost:8080/"
        },
        "id": "AwLD2fq15Q_H",
        "outputId": "ce64d6b2-77e4-45e4-b2c3-5a22aced245a"
      },
      "execution_count": 32,
      "outputs": [
        {
          "output_type": "stream",
          "name": "stdout",
          "text": [
            "Guess a number: 8\n",
            "Too high! Try again\n",
            "Guess a number: 6\n",
            "Too high! Try again\n",
            "Guess a number: 4\n",
            "Congrats buddy, you guessed the number\n"
          ]
        }
      ]
    }
  ]
}