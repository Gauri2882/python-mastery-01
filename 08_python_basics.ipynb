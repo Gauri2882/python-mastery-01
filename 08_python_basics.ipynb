{
  "nbformat": 4,
  "nbformat_minor": 0,
  "metadata": {
    "colab": {
      "provenance": []
    },
    "kernelspec": {
      "name": "python3",
      "display_name": "Python 3"
    },
    "language_info": {
      "name": "python"
    }
  },
  "cells": [
    {
      "cell_type": "markdown",
      "source": [
        "# List\n",
        "\n",
        "*  List operations: Adding, removing, accessing\n",
        "*  looping through list\n",
        "*  list method"
      ],
      "metadata": {
        "id": "Mkbhf5O0USer"
      }
    },
    {
      "cell_type": "code",
      "source": [
        "shopping_list = [\"Milk\", \"Eggs\", \"Bread\"]\n",
        "print(shopping_list[0])\n",
        "\n",
        "shopping_list.append(\"Butter\")\n",
        "print(shopping_list)\n",
        "\n",
        "shopping_list.insert(1, \"Juice\")\n",
        "print(shopping_list)\n",
        "\n",
        "shopping_list.remove(\"Bread\")\n",
        "print(shopping_list)\n",
        "\n",
        "shopping_list.pop()\n",
        "print(shopping_list)"
      ],
      "metadata": {
        "colab": {
          "base_uri": "https://localhost:8080/"
        },
        "id": "X0C4gk3qUkY9",
        "outputId": "4d2f4d87-0874-4c27-c4f2-26dcfdd13bc4"
      },
      "execution_count": 5,
      "outputs": [
        {
          "output_type": "stream",
          "name": "stdout",
          "text": [
            "Milk\n",
            "['Milk', 'Eggs', 'Bread', 'Butter']\n",
            "['Milk', 'Juice', 'Eggs', 'Bread', 'Butter']\n",
            "['Milk', 'Juice', 'Eggs', 'Butter']\n",
            "['Milk', 'Juice', 'Eggs']\n"
          ]
        }
      ]
    },
    {
      "cell_type": "code",
      "source": [
        "for item in shopping_list:\n",
        "    print(f\"- {item}\")"
      ],
      "metadata": {
        "colab": {
          "base_uri": "https://localhost:8080/"
        },
        "id": "FYO_dmO4VNb2",
        "outputId": "b3402cfb-fbd5-475c-9c4b-cb3b2f2a6f83"
      },
      "execution_count": 7,
      "outputs": [
        {
          "output_type": "stream",
          "name": "stdout",
          "text": [
            "- Milk\n",
            "- Juice\n",
            "- Eggs\n"
          ]
        }
      ]
    },
    {
      "cell_type": "code",
      "source": [
        "for index, item in enumerate(shopping_list):\n",
        "    print(f\"{index + 1}. {item}\")"
      ],
      "metadata": {
        "colab": {
          "base_uri": "https://localhost:8080/"
        },
        "id": "NHP1_wF3U0st",
        "outputId": "3235a129-a14b-4044-854d-f84603b32da1"
      },
      "execution_count": 8,
      "outputs": [
        {
          "output_type": "stream",
          "name": "stdout",
          "text": [
            "1. Milk\n",
            "2. Juice\n",
            "3. Eggs\n"
          ]
        }
      ]
    },
    {
      "cell_type": "code",
      "source": [
        "shopping_list = ['Milk', 'Juice', 'Eggs', 'Bread', 'Butter']\n",
        "\n",
        "shopping_list.sort()\n",
        "print(shopping_list)\n",
        "\n",
        "shopping_list.reverse()\n",
        "print(shopping_list)\n",
        "\n",
        "shopping_list.clear()\n",
        "print(shopping_list)"
      ],
      "metadata": {
        "colab": {
          "base_uri": "https://localhost:8080/"
        },
        "id": "Lh9_4kXBVliR",
        "outputId": "56d855d5-8fb0-4026-c775-620661b95c90"
      },
      "execution_count": 11,
      "outputs": [
        {
          "output_type": "stream",
          "name": "stdout",
          "text": [
            "['Bread', 'Butter', 'Eggs', 'Juice', 'Milk']\n",
            "['Milk', 'Juice', 'Eggs', 'Butter', 'Bread']\n",
            "[]\n"
          ]
        }
      ]
    },
    {
      "cell_type": "markdown",
      "source": [
        "# Project: Shopping List App"
      ],
      "metadata": {
        "id": "stx3df_MUlTV"
      }
    },
    {
      "cell_type": "code",
      "source": [
        "# step 1: initialize an empty shopping list\n",
        "grocery_list = []\n",
        "\n",
        "# step 2: define the main menu\n",
        "def show_menu():\n",
        "  print(\"\\n---- Shopping List Menu ----\")\n",
        "  print(\"1. View the shopping list\")\n",
        "  print(\"2. Add an item to the shopping list\")\n",
        "  print(\"3. Update existing item\")\n",
        "  print(\"4. Remove an item from the shopping list\")\n",
        "  print(\"5. Clear the shopping list\")\n",
        "  print(\"6. Quit the program\")\n",
        "  print(\"----------------------------\")\n",
        "\n",
        "# step 3: Main program loop\n",
        "while True:\n",
        "  show_menu()\n",
        "  choice = input(\"Enter your choice (1-6): \")\n",
        "\n",
        "  if choice == \"1\":\n",
        "    print(\"\\n---- Shopping List\")\n",
        "    if not grocery_list:\n",
        "      print(\"The shopping list is empty.\")\n",
        "    else:\n",
        "      for index, item in enumerate(grocery_list):\n",
        "        print(f\"{index + 1}. {item}\")\n",
        "\n",
        "  elif choice == \"2\":\n",
        "    item = input(\"Enter the item to add: \")\n",
        "    grocery_list.append(item)\n",
        "    print(f\"{item} has been added to the shopping list.\")\n",
        "\n",
        "  elif choice == \"3\":\n",
        "    item = input(\"Enter the item to update: \")\n",
        "    if item in grocery_list:\n",
        "      index = grocery_list.index(item)\n",
        "      new_item = input(\"Enter the new item: \")\n",
        "      grocery_list[index] = new_item\n",
        "      print(f\"{item} has been updated to {new_item} in the shopping list.\")\n",
        "    else:\n",
        "      print(f\"{item} is not in the shopping list.\")\n",
        "\n",
        "  elif choice == \"4\":\n",
        "    item = input(\"Enter the item to remove: \")\n",
        "    if item in grocery_list:\n",
        "      grocery_list.remove(item)\n",
        "      print(f\"{item} has been removed from the shopping list.\")\n",
        "    else:\n",
        "      print(f\"{item} is not in the shopping list.\")\n",
        "\n",
        "  elif choice == \"5\":\n",
        "    grocery_list.clear()\n",
        "    print(\"The shopping list has been cleared.\")\n",
        "\n",
        "  elif choice == \"6\":\n",
        "    print(\"Goodbye!\")\n",
        "    break\n",
        "\n",
        "  else:\n",
        "    print(\"Invalid choice. Please try again.\")\n",
        ""
      ],
      "metadata": {
        "colab": {
          "base_uri": "https://localhost:8080/"
        },
        "id": "YnXwobr-V_Ij",
        "outputId": "47610d8e-b27d-4f8f-9a2d-ee51fda9fb89"
      },
      "execution_count": 15,
      "outputs": [
        {
          "output_type": "stream",
          "name": "stdout",
          "text": [
            "\n",
            "---- Shopping List Menu ----\n",
            "1. View the shopping list\n",
            "2. Add an item to the shopping list\n",
            "3. Update existing item\n",
            "4. Remove an item from the shopping list\n",
            "5. Clear the shopping list\n",
            "6. Quit the program\n",
            "----------------------------\n",
            "Enter your choice (1-6): 2\n",
            "Enter the item to add: Milk\n",
            "Milk has been added to the shopping list.\n",
            "\n",
            "---- Shopping List Menu ----\n",
            "1. View the shopping list\n",
            "2. Add an item to the shopping list\n",
            "3. Update existing item\n",
            "4. Remove an item from the shopping list\n",
            "5. Clear the shopping list\n",
            "6. Quit the program\n",
            "----------------------------\n",
            "Enter your choice (1-6): 2\n",
            "Enter the item to add: Bread\n",
            "Bread has been added to the shopping list.\n",
            "\n",
            "---- Shopping List Menu ----\n",
            "1. View the shopping list\n",
            "2. Add an item to the shopping list\n",
            "3. Update existing item\n",
            "4. Remove an item from the shopping list\n",
            "5. Clear the shopping list\n",
            "6. Quit the program\n",
            "----------------------------\n",
            "Enter your choice (1-6): 3\n",
            "Enter the item to update: Milk\n",
            "Enter the new item: Butter\n",
            "Milk has been updated to Butter in the shopping list.\n",
            "\n",
            "---- Shopping List Menu ----\n",
            "1. View the shopping list\n",
            "2. Add an item to the shopping list\n",
            "3. Update existing item\n",
            "4. Remove an item from the shopping list\n",
            "5. Clear the shopping list\n",
            "6. Quit the program\n",
            "----------------------------\n",
            "Enter your choice (1-6): 1\n",
            "\n",
            "---- Shopping List\n",
            "1. Butter\n",
            "2. Bread\n",
            "\n",
            "---- Shopping List Menu ----\n",
            "1. View the shopping list\n",
            "2. Add an item to the shopping list\n",
            "3. Update existing item\n",
            "4. Remove an item from the shopping list\n",
            "5. Clear the shopping list\n",
            "6. Quit the program\n",
            "----------------------------\n",
            "Enter your choice (1-6): 4\n",
            "Enter the item to remove: Butter\n",
            "Butter has been removed from the shopping list.\n",
            "\n",
            "---- Shopping List Menu ----\n",
            "1. View the shopping list\n",
            "2. Add an item to the shopping list\n",
            "3. Update existing item\n",
            "4. Remove an item from the shopping list\n",
            "5. Clear the shopping list\n",
            "6. Quit the program\n",
            "----------------------------\n",
            "Enter your choice (1-6): 1\n",
            "\n",
            "---- Shopping List\n",
            "1. Bread\n",
            "\n",
            "---- Shopping List Menu ----\n",
            "1. View the shopping list\n",
            "2. Add an item to the shopping list\n",
            "3. Update existing item\n",
            "4. Remove an item from the shopping list\n",
            "5. Clear the shopping list\n",
            "6. Quit the program\n",
            "----------------------------\n",
            "Enter your choice (1-6): 5\n",
            "The shopping list has been cleared.\n",
            "\n",
            "---- Shopping List Menu ----\n",
            "1. View the shopping list\n",
            "2. Add an item to the shopping list\n",
            "3. Update existing item\n",
            "4. Remove an item from the shopping list\n",
            "5. Clear the shopping list\n",
            "6. Quit the program\n",
            "----------------------------\n",
            "Enter your choice (1-6): 6\n",
            "Goodbye!\n"
          ]
        }
      ]
    }
  ]
}