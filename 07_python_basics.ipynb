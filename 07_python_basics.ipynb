{
  "nbformat": 4,
  "nbformat_minor": 0,
  "metadata": {
    "colab": {
      "provenance": []
    },
    "kernelspec": {
      "name": "python3",
      "display_name": "Python 3"
    },
    "language_info": {
      "name": "python"
    }
  },
  "cells": [
    {
      "cell_type": "markdown",
      "source": [
        "# Functions\n",
        "\n",
        "*  Defining and Calling functions\n",
        "*  Parameter and Arguments\n",
        "*  Return statements"
      ],
      "metadata": {
        "id": "U_5si0y0Jnyg"
      }
    },
    {
      "cell_type": "code",
      "source": [
        "# Defining function\n",
        "def greet():\n",
        "  print(\"Hello! Welcome Back\")\n",
        "\n",
        "# Calling function\n",
        "greet()"
      ],
      "metadata": {
        "colab": {
          "base_uri": "https://localhost:8080/"
        },
        "id": "1HiGb5K0OegK",
        "outputId": "8a410ce4-b9e8-45ff-be92-036f7054e460"
      },
      "execution_count": 96,
      "outputs": [
        {
          "output_type": "stream",
          "name": "stdout",
          "text": [
            "Hello! Welcome Back\n"
          ]
        }
      ]
    },
    {
      "cell_type": "code",
      "source": [
        "# name is parameter here\n",
        "def greet1(name):\n",
        "  print(f\"Hello, {name}! Good morning\")\n",
        "\n",
        "# Gauri and Sakshi are arguments\n",
        "greet1(\"Gauri\")\n",
        "greet1(\"Sakshi\")"
      ],
      "metadata": {
        "colab": {
          "base_uri": "https://localhost:8080/"
        },
        "id": "ozqmb8vIO7P-",
        "outputId": "7909df3b-3976-471e-d627-dc86e86d2491"
      },
      "execution_count": 100,
      "outputs": [
        {
          "output_type": "stream",
          "name": "stdout",
          "text": [
            "Hello, Gauri! Good morning\n",
            "Hello, Sakshi! Good morning\n"
          ]
        }
      ]
    },
    {
      "cell_type": "code",
      "source": [
        "def add(a, b):\n",
        "  return a + b\n",
        "\n",
        "def multiply(a , b):\n",
        "  return a * b\n",
        "\n",
        "a = 5\n",
        "b = 6\n",
        "print(f\"{a} + {b} is {add(a, b)}\")\n",
        "print(f\"{a} * {b} is {multiply(a, b)}\")"
      ],
      "metadata": {
        "colab": {
          "base_uri": "https://localhost:8080/"
        },
        "id": "39T8d4t3Pb7m",
        "outputId": "7a9a5831-1c2f-4125-b659-2df28ea48eb6"
      },
      "execution_count": 103,
      "outputs": [
        {
          "output_type": "stream",
          "name": "stdout",
          "text": [
            "5 + 6 is 11\n",
            "5 * 6 is 30\n"
          ]
        }
      ]
    },
    {
      "cell_type": "markdown",
      "source": [
        "# Project: Basic Math Quiz Game"
      ],
      "metadata": {
        "id": "6sDtohGyQBww"
      }
    },
    {
      "cell_type": "code",
      "source": [
        "import random\n",
        "\n",
        "# step 1: define math function\n",
        "def generate_question():\n",
        "  num1 = random.randint(1, 10)\n",
        "  num2 = random.randint(1, 10)\n",
        "  operator = random.choice(['+', '-', '*'])\n",
        "\n",
        "  if operator == '+':\n",
        "    answer = num1 + num2\n",
        "  elif operator == '-':\n",
        "    answer = num1 - num2\n",
        "  else:\n",
        "    answer = num1 * num2\n",
        "\n",
        "  question = f\"{num1} {operator} {num2}\"\n",
        "  return question, answer\n",
        "\n",
        "# step 2: define main game loop\n",
        "def math_quiz():\n",
        "  score = 0\n",
        "  round = 5\n",
        "\n",
        "  print(\"\\n---- Welcome to Math Quiz Game! ----\")\n",
        "  print(\"You will be presented with math problem, and you need to provide the correct answer.\")\n",
        "\n",
        "  for i in range(round):\n",
        "    question, answer = generate_question()\n",
        "    print(f\"\\nQuestion {i + 1}: {question}\")\n",
        "    user_answer = int(input(\"Your answer: \"))\n",
        "\n",
        "    if user_answer == answer:\n",
        "      print(\"Correct! You get 1 point.\")\n",
        "      score += 1\n",
        "    else:\n",
        "      print(f\"Wrong! The correct answer is {answer}.\")\n",
        "\n",
        "  print(\"\\n---- Game Over! ----\\n\")\n",
        "  print(f\"Your final score is: {score}/{round}\")\n",
        "\n",
        "  if score == round:\n",
        "    print(\"Congratulations! You got all the questions correct.\")\n",
        "  elif score >= round // 2:\n",
        "    print(\"Good job! You did well.\")\n",
        "  else:\n",
        "    print(\"Keep practicing! You can do better next time.\")\n",
        "\n",
        "# step 3: run the game\n",
        "math_quiz()"
      ],
      "metadata": {
        "colab": {
          "base_uri": "https://localhost:8080/"
        },
        "id": "M4LKQXiUQEro",
        "outputId": "b3e79357-113b-4a30-9a65-568627a057c5"
      },
      "execution_count": 106,
      "outputs": [
        {
          "output_type": "stream",
          "name": "stdout",
          "text": [
            "\n",
            "---- Welcome to Math Quiz Game! ----\n",
            "You will be presented with math problem, and you need to provide the correct answer.\n",
            "\n",
            "Question 1: 6 - 2\n",
            "Your answer: 4\n",
            "Correct! You get 1 point.\n",
            "\n",
            "Question 2: 2 + 9\n",
            "Your answer: 11\n",
            "Correct! You get 1 point.\n",
            "\n",
            "Question 3: 5 + 3\n",
            "Your answer: 8\n",
            "Correct! You get 1 point.\n",
            "\n",
            "Question 4: 5 * 4\n",
            "Your answer: 45\n",
            "Wrong! The correct answer is 20.\n",
            "\n",
            "Question 5: 10 * 10\n",
            "Your answer: 100\n",
            "Correct! You get 1 point.\n",
            "\n",
            "---- Game Over! ----\n",
            "\n",
            "Your final score is: 4/5\n",
            "Good job! You did well.\n"
          ]
        }
      ]
    }
  ]
}